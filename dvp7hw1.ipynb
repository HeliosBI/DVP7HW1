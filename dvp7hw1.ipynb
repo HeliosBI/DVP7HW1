{
 "cells": [
  {
   "cell_type": "code",
   "execution_count": 17,
   "metadata": {},
   "outputs": [],
   "source": [
    "import numpy as np\n",
    "import pandas as pd\n",
    "\n",
    "from sklearn.linear_model import LinearRegression"
   ]
  },
  {
   "cell_type": "code",
   "execution_count": 36,
   "metadata": {
    "scrolled": true
   },
   "outputs": [
    {
     "data": {
      "text/html": [
       "<div>\n",
       "<style scoped>\n",
       "    .dataframe tbody tr th:only-of-type {\n",
       "        vertical-align: middle;\n",
       "    }\n",
       "\n",
       "    .dataframe tbody tr th {\n",
       "        vertical-align: top;\n",
       "    }\n",
       "\n",
       "    .dataframe thead th {\n",
       "        text-align: right;\n",
       "    }\n",
       "</style>\n",
       "<table border=\"1\" class=\"dataframe\">\n",
       "  <thead>\n",
       "    <tr style=\"text-align: right;\">\n",
       "      <th></th>\n",
       "      <th>ride_distance_km</th>\n",
       "      <th>fuel_efficiency_per_100km</th>\n",
       "      <th>job_time</th>\n",
       "      <th>fuel_efficiency_per_hour_job</th>\n",
       "      <th>total_fuel_spent</th>\n",
       "    </tr>\n",
       "  </thead>\n",
       "  <tbody>\n",
       "    <tr>\n",
       "      <th>0</th>\n",
       "      <td>82</td>\n",
       "      <td>6</td>\n",
       "      <td>12</td>\n",
       "      <td>2</td>\n",
       "      <td>28.92</td>\n",
       "    </tr>\n",
       "    <tr>\n",
       "      <th>1</th>\n",
       "      <td>60</td>\n",
       "      <td>10</td>\n",
       "      <td>5</td>\n",
       "      <td>3</td>\n",
       "      <td>21.00</td>\n",
       "    </tr>\n",
       "    <tr>\n",
       "      <th>2</th>\n",
       "      <td>34</td>\n",
       "      <td>12</td>\n",
       "      <td>2</td>\n",
       "      <td>2</td>\n",
       "      <td>8.08</td>\n",
       "    </tr>\n",
       "    <tr>\n",
       "      <th>3</th>\n",
       "      <td>19</td>\n",
       "      <td>8</td>\n",
       "      <td>7</td>\n",
       "      <td>2</td>\n",
       "      <td>15.52</td>\n",
       "    </tr>\n",
       "    <tr>\n",
       "      <th>4</th>\n",
       "      <td>2</td>\n",
       "      <td>7</td>\n",
       "      <td>13</td>\n",
       "      <td>1</td>\n",
       "      <td>13.14</td>\n",
       "    </tr>\n",
       "  </tbody>\n",
       "</table>\n",
       "</div>"
      ],
      "text/plain": [
       "   ride_distance_km  fuel_efficiency_per_100km  job_time  \\\n",
       "0                82                          6        12   \n",
       "1                60                         10         5   \n",
       "2                34                         12         2   \n",
       "3                19                          8         7   \n",
       "4                 2                          7        13   \n",
       "\n",
       "   fuel_efficiency_per_hour_job  total_fuel_spent  \n",
       "0                             2             28.92  \n",
       "1                             3             21.00  \n",
       "2                             2              8.08  \n",
       "3                             2             15.52  \n",
       "4                             1             13.14  "
      ]
     },
     "execution_count": 36,
     "metadata": {},
     "output_type": "execute_result"
    }
   ],
   "source": [
    "# Создаём сэмпл\n",
    "n_samples = 1000\n",
    "\n",
    "fuel_efficiency_per_hour_job = (np.random.choice(3, n_samples) + 1 )\n",
    "job_time = (np.random.choice(12, n_samples) + 2 )\n",
    "\n",
    "fuel_efficiency_per_100km = (np.random.choice(20, n_samples) + 6 )\n",
    "ride_distance_km = (np.random.choice(120, n_samples) + 1 )\n",
    "\n",
    "total_fuel_spent = ride_distance_km / 100 * fuel_efficiency_per_100km + fuel_efficiency_per_hour_job * job_time\n",
    "\n",
    "data = pd.DataFrame({'ride_distance_km': ride_distance_km,  \n",
    "                     'fuel_efficiency_per_100km': fuel_efficiency_per_100km,\n",
    "                     'job_time': job_time,\n",
    "                     'fuel_efficiency_per_hour_job': fuel_efficiency_per_hour_job,\n",
    "                     'total_fuel_spent': total_fuel_spent})\n",
    "data.head(5)"
   ]
  },
  {
   "cell_type": "markdown",
   "metadata": {},
   "source": [
    "Моделируем датасет по общему расходу топлива строительной техники исходя из двух основных процессов:\n",
    "-движение техники до объекта выполнения работ\n",
    "-непосредственное выполнение техникой работ\n",
    "\n",
    "Выбраны следующие признаки:\n",
    "-расход топлива на час работ\n",
    "-время выполнения работ\n",
    "-расход топлива при движении (на 100 км)\n",
    "-длина пути до объекта выполнения работ и обратно\n",
    "\n",
    "Предполагаемая (используемая) модель зависимости следующая:\n",
    "total_fuel_spent =\n",
    "ride_distance_km / 100 * fuel_efficiency_per_100km + fuel_efficiency_per_hour_job * job_time\n",
    "\n",
    "Стоит выделить, что в предлагаемом гипотетическом варианте зависимость количества топлива на дорогу или на работу в целом определяется не просто суммой-комбинацией факторов расхода и времени/дистанции, а их умножением."
   ]
  },
  {
   "cell_type": "code",
   "execution_count": 37,
   "metadata": {},
   "outputs": [
    {
     "name": "stdout",
     "output_type": "stream",
     "text": [
      "Weights: [0.15238188 0.65317709 1.97080627 7.43662873]\n",
      "Bias: -24.646104708569126\n",
      "Error: 2.7369594323830295\n"
     ]
    }
   ],
   "source": [
    "from sklearn.metrics import mean_absolute_error\n",
    "\n",
    "X = data[['ride_distance_km', 'fuel_efficiency_per_100km', 'job_time', 'fuel_efficiency_per_hour_job']]\n",
    "y = data['total_fuel_spent']\n",
    "reg = LinearRegression().fit(X, y)\n",
    "print('Weights: {}'.format(reg.coef_))\n",
    "print('Bias: {}'.format(reg.intercept_))\n",
    "\n",
    "pred_values = reg.predict(data[['ride_distance_km', 'fuel_efficiency_per_100km',\n",
    "                                'job_time', 'fuel_efficiency_per_hour_job']])\n",
    "print('Error: {}'.format(mean_absolute_error(pred_values, y)))"
   ]
  },
  {
   "cell_type": "markdown",
   "metadata": {},
   "source": [
    "Попробуем построить модель линейной регрессии на базе четырех основных признаков.\n",
    "Модель пытается подобрать такие веса каждого признака, СУММА которых даст наименьшее квадратичное отклонение (ошибку) при попытке предсказать/повторить результат набора данных. \n",
    "\n",
    "Как результат получаем определенное предсказание весов, отклонение и ошибку модели. "
   ]
  },
  {
   "cell_type": "code",
   "execution_count": 38,
   "metadata": {},
   "outputs": [
    {
     "data": {
      "text/html": [
       "<div>\n",
       "<style scoped>\n",
       "    .dataframe tbody tr th:only-of-type {\n",
       "        vertical-align: middle;\n",
       "    }\n",
       "\n",
       "    .dataframe tbody tr th {\n",
       "        vertical-align: top;\n",
       "    }\n",
       "\n",
       "    .dataframe thead th {\n",
       "        text-align: right;\n",
       "    }\n",
       "</style>\n",
       "<table border=\"1\" class=\"dataframe\">\n",
       "  <thead>\n",
       "    <tr style=\"text-align: right;\">\n",
       "      <th></th>\n",
       "      <th>ride_distance_km</th>\n",
       "      <th>fuel_efficiency_per_100km</th>\n",
       "      <th>job_time</th>\n",
       "      <th>fuel_efficiency_per_hour_job</th>\n",
       "      <th>total_fuel_spent</th>\n",
       "      <th>fuel_per_ride</th>\n",
       "      <th>fuel_per_job</th>\n",
       "    </tr>\n",
       "  </thead>\n",
       "  <tbody>\n",
       "    <tr>\n",
       "      <th>0</th>\n",
       "      <td>82</td>\n",
       "      <td>6</td>\n",
       "      <td>12</td>\n",
       "      <td>2</td>\n",
       "      <td>28.92</td>\n",
       "      <td>492</td>\n",
       "      <td>24</td>\n",
       "    </tr>\n",
       "    <tr>\n",
       "      <th>1</th>\n",
       "      <td>60</td>\n",
       "      <td>10</td>\n",
       "      <td>5</td>\n",
       "      <td>3</td>\n",
       "      <td>21.00</td>\n",
       "      <td>600</td>\n",
       "      <td>15</td>\n",
       "    </tr>\n",
       "    <tr>\n",
       "      <th>2</th>\n",
       "      <td>34</td>\n",
       "      <td>12</td>\n",
       "      <td>2</td>\n",
       "      <td>2</td>\n",
       "      <td>8.08</td>\n",
       "      <td>408</td>\n",
       "      <td>4</td>\n",
       "    </tr>\n",
       "    <tr>\n",
       "      <th>3</th>\n",
       "      <td>19</td>\n",
       "      <td>8</td>\n",
       "      <td>7</td>\n",
       "      <td>2</td>\n",
       "      <td>15.52</td>\n",
       "      <td>152</td>\n",
       "      <td>14</td>\n",
       "    </tr>\n",
       "    <tr>\n",
       "      <th>4</th>\n",
       "      <td>2</td>\n",
       "      <td>7</td>\n",
       "      <td>13</td>\n",
       "      <td>1</td>\n",
       "      <td>13.14</td>\n",
       "      <td>14</td>\n",
       "      <td>13</td>\n",
       "    </tr>\n",
       "  </tbody>\n",
       "</table>\n",
       "</div>"
      ],
      "text/plain": [
       "   ride_distance_km  fuel_efficiency_per_100km  job_time  \\\n",
       "0                82                          6        12   \n",
       "1                60                         10         5   \n",
       "2                34                         12         2   \n",
       "3                19                          8         7   \n",
       "4                 2                          7        13   \n",
       "\n",
       "   fuel_efficiency_per_hour_job  total_fuel_spent  fuel_per_ride  fuel_per_job  \n",
       "0                             2             28.92            492            24  \n",
       "1                             3             21.00            600            15  \n",
       "2                             2              8.08            408             4  \n",
       "3                             2             15.52            152            14  \n",
       "4                             1             13.14             14            13  "
      ]
     },
     "execution_count": 38,
     "metadata": {},
     "output_type": "execute_result"
    }
   ],
   "source": [
    "# Создаем новый признак\n",
    "data['fuel_per_ride'] = data['ride_distance_km'] * data['fuel_efficiency_per_100km']\n",
    "data['fuel_per_job'] = data['job_time'] * data['fuel_efficiency_per_hour_job']\n",
    "data.head(5)"
   ]
  },
  {
   "cell_type": "markdown",
   "metadata": {},
   "source": [
    "Пробуем сократить количество используемых признаков и одновременно \"убрать\" зависимость от умножения двух параметров путем создания отдельного расчетного столбца в датафрейме - fuel_per_ride; fuel_per_job"
   ]
  },
  {
   "cell_type": "code",
   "execution_count": 41,
   "metadata": {},
   "outputs": [
    {
     "name": "stdout",
     "output_type": "stream",
     "text": [
      "Weights: [0.01 1.  ]\n",
      "Bias: 1.4210854715202004e-14\n",
      "Error: 6.181277711903022e-15\n"
     ]
    }
   ],
   "source": [
    "X = data[['fuel_per_ride','fuel_per_job']]\n",
    "y = data['total_fuel_spent']\n",
    "reg = LinearRegression().fit(X, y)\n",
    "print('Weights: {}'.format(reg.coef_))\n",
    "print('Bias: {}'.format(reg.intercept_))\n",
    "\n",
    "pred_values = reg.predict(data[['fuel_per_ride','fuel_per_job']])\n",
    "print('Error: {}'.format(mean_absolute_error(pred_values, y)))"
   ]
  },
  {
   "cell_type": "markdown",
   "metadata": {},
   "source": [
    "После выполнения указанных манипуляций повторяем обучение модели линейной регрессии. Получили результат со значительно меньшими (идеальными) сдвигом и ошибкой, так как модель полностью предсказала/повторила нашу синтетическую формулу для создания сэмпла данных."
   ]
  },
  {
   "cell_type": "code",
   "execution_count": null,
   "metadata": {},
   "outputs": [],
   "source": []
  }
 ],
 "metadata": {
  "kernelspec": {
   "display_name": "Python 3",
   "language": "python",
   "name": "python3"
  },
  "language_info": {
   "codemirror_mode": {
    "name": "ipython",
    "version": 3
   },
   "file_extension": ".py",
   "mimetype": "text/x-python",
   "name": "python",
   "nbconvert_exporter": "python",
   "pygments_lexer": "ipython3",
   "version": "3.8.2"
  }
 },
 "nbformat": 4,
 "nbformat_minor": 2
}
